{
 "cells": [
  {
   "cell_type": "code",
   "execution_count": 9,
   "id": "minimal-medline",
   "metadata": {},
   "outputs": [
    {
     "ename": "ModuleNotFoundError",
     "evalue": "No module named 'bitfinex_v2'",
     "output_type": "error",
     "traceback": [
      "\u001b[0;31m---------------------------------------------------------------------------\u001b[0m",
      "\u001b[0;31mModuleNotFoundError\u001b[0m                       Traceback (most recent call last)",
      "\u001b[0;32m<ipython-input-9-60e3c2e5be75>\u001b[0m in \u001b[0;36m<module>\u001b[0;34m\u001b[0m\n\u001b[0;32m----> 1\u001b[0;31m \u001b[0;32mfrom\u001b[0m \u001b[0mbitfinex_v2\u001b[0m \u001b[0;32mimport\u001b[0m \u001b[0mWssClient\u001b[0m\u001b[0;34m,\u001b[0m \u001b[0mClientV2\u001b[0m\u001b[0;34m,\u001b[0m \u001b[0mClientV1\u001b[0m\u001b[0;34m\u001b[0m\u001b[0;34m\u001b[0m\u001b[0m\n\u001b[0m",
      "\u001b[0;31mModuleNotFoundError\u001b[0m: No module named 'bitfinex_v2'"
     ]
    }
   ],
   "source": [
    "from bitfinex_v2 import WssClient, ClientV2, ClientV1"
   ]
  },
  {
   "cell_type": "code",
   "execution_count": 6,
   "id": "automatic-cattle",
   "metadata": {},
   "outputs": [
    {
     "ename": "SyntaxError",
     "evalue": "invalid syntax (<ipython-input-6-988af64b13cb>, line 1)",
     "output_type": "error",
     "traceback": [
      "\u001b[0;36m  File \u001b[0;32m\"<ipython-input-6-988af64b13cb>\"\u001b[0;36m, line \u001b[0;32m1\u001b[0m\n\u001b[0;31m    import bitfinex-v2\u001b[0m\n\u001b[0m                   ^\u001b[0m\n\u001b[0;31mSyntaxError\u001b[0m\u001b[0;31m:\u001b[0m invalid syntax\n"
     ]
    }
   ],
   "source": [
    "import bitfinex-v2\n",
    "import datetime\n",
    "import time\n",
    "import pandas as pd"
   ]
  },
  {
   "cell_type": "code",
   "execution_count": 4,
   "id": "threatened-symbol",
   "metadata": {},
   "outputs": [
    {
     "ename": "AttributeError",
     "evalue": "module 'bitfinex' has no attribute 'bitfinex_v2'",
     "output_type": "error",
     "traceback": [
      "\u001b[0;31m---------------------------------------------------------------------------\u001b[0m",
      "\u001b[0;31mAttributeError\u001b[0m                            Traceback (most recent call last)",
      "\u001b[0;32m<ipython-input-4-4b6dfa5310ca>\u001b[0m in \u001b[0;36m<module>\u001b[0;34m\u001b[0m\n\u001b[1;32m     33\u001b[0m     \u001b[0;32mreturn\u001b[0m \u001b[0mdata\u001b[0m\u001b[0;34m\u001b[0m\u001b[0;34m\u001b[0m\u001b[0m\n\u001b[1;32m     34\u001b[0m \u001b[0;34m\u001b[0m\u001b[0m\n\u001b[0;32m---> 35\u001b[0;31m \u001b[0mresult\u001b[0m \u001b[0;34m=\u001b[0m \u001b[0mfetch_data\u001b[0m\u001b[0;34m(\u001b[0m\u001b[0mt_start\u001b[0m\u001b[0;34m,\u001b[0m \u001b[0mt_stop\u001b[0m\u001b[0;34m,\u001b[0m \u001b[0mpair\u001b[0m\u001b[0;34m,\u001b[0m \u001b[0mTIMEFRAME\u001b[0m\u001b[0;34m,\u001b[0m \u001b[0mTIMEFRAME_S\u001b[0m\u001b[0;34m)\u001b[0m\u001b[0;34m\u001b[0m\u001b[0;34m\u001b[0m\u001b[0m\n\u001b[0m\u001b[1;32m     36\u001b[0m \u001b[0mnames\u001b[0m \u001b[0;34m=\u001b[0m \u001b[0;34m[\u001b[0m\u001b[0;34m'Date'\u001b[0m\u001b[0;34m,\u001b[0m \u001b[0;34m'Open'\u001b[0m\u001b[0;34m,\u001b[0m \u001b[0;34m'Close'\u001b[0m\u001b[0;34m,\u001b[0m \u001b[0;34m'High'\u001b[0m\u001b[0;34m,\u001b[0m \u001b[0;34m'Low'\u001b[0m\u001b[0;34m,\u001b[0m \u001b[0;34m'Volume'\u001b[0m\u001b[0;34m]\u001b[0m\u001b[0;34m\u001b[0m\u001b[0;34m\u001b[0m\u001b[0m\n\u001b[1;32m     37\u001b[0m \u001b[0mdf\u001b[0m \u001b[0;34m=\u001b[0m \u001b[0mpd\u001b[0m\u001b[0;34m.\u001b[0m\u001b[0mDataFrame\u001b[0m\u001b[0;34m(\u001b[0m\u001b[0mresult\u001b[0m\u001b[0;34m,\u001b[0m \u001b[0mcolumns\u001b[0m\u001b[0;34m=\u001b[0m\u001b[0mnames\u001b[0m\u001b[0;34m)\u001b[0m\u001b[0;34m\u001b[0m\u001b[0;34m\u001b[0m\u001b[0m\n",
      "\u001b[0;32m<ipython-input-4-4b6dfa5310ca>\u001b[0m in \u001b[0;36mfetch_data\u001b[0;34m(start, stop, symbol, interval, TIMEFRAME_S)\u001b[0m\n\u001b[1;32m     15\u001b[0m     \u001b[0mlimit\u001b[0m \u001b[0;34m=\u001b[0m \u001b[0;36m1000\u001b[0m    \u001b[0;31m# We want the maximum of 1000 data points\u001b[0m\u001b[0;34m\u001b[0m\u001b[0;34m\u001b[0m\u001b[0m\n\u001b[1;32m     16\u001b[0m     \u001b[0;31m# Create api instance\u001b[0m\u001b[0;34m\u001b[0m\u001b[0;34m\u001b[0m\u001b[0;34m\u001b[0m\u001b[0m\n\u001b[0;32m---> 17\u001b[0;31m     \u001b[0mapi_v2\u001b[0m \u001b[0;34m=\u001b[0m \u001b[0mbitfinex\u001b[0m\u001b[0;34m.\u001b[0m\u001b[0mbitfinex_v2\u001b[0m\u001b[0;34m.\u001b[0m\u001b[0mapi_v2\u001b[0m\u001b[0;34m(\u001b[0m\u001b[0;34m)\u001b[0m\u001b[0;34m\u001b[0m\u001b[0;34m\u001b[0m\u001b[0m\n\u001b[0m\u001b[1;32m     18\u001b[0m     \u001b[0mhour\u001b[0m \u001b[0;34m=\u001b[0m \u001b[0mTIMEFRAME_S\u001b[0m \u001b[0;34m*\u001b[0m \u001b[0;36m1000\u001b[0m\u001b[0;34m\u001b[0m\u001b[0;34m\u001b[0m\u001b[0m\n\u001b[1;32m     19\u001b[0m     \u001b[0mstep\u001b[0m \u001b[0;34m=\u001b[0m \u001b[0mhour\u001b[0m \u001b[0;34m*\u001b[0m \u001b[0mlimit\u001b[0m\u001b[0;34m\u001b[0m\u001b[0;34m\u001b[0m\u001b[0m\n",
      "\u001b[0;31mAttributeError\u001b[0m: module 'bitfinex' has no attribute 'bitfinex_v2'"
     ]
    }
   ],
   "source": [
    "\n",
    "# Define query parameters\n",
    "pair = 'BTCUSD' # Currency pair of interest\n",
    "TIMEFRAME = '1h'#,'4h','1h','15m','1m'\n",
    "TIMEFRAME_S = 3600 # seconds in TIMEFRAME\n",
    "\n",
    "# Define the start date\n",
    "t_start = datetime.datetime(2020, 1, 1, 0, 0)\n",
    "t_start = time.mktime(t_start.timetuple()) * 1000\n",
    "\n",
    "# Define the end date\n",
    "t_stop = datetime.datetime(2020, 10, 12, 0, 0)\n",
    "t_stop = time.mktime(t_stop.timetuple()) * 1000\n",
    "\n",
    "def fetch_data(start, stop, symbol, interval, TIMEFRAME_S):\n",
    "    limit = 1000    # We want the maximum of 1000 data points\n",
    "    # Create api instance\n",
    "    api_v2 = bitfinex.bitfinex_v2.api_v2()\n",
    "    hour = TIMEFRAME_S * 1000\n",
    "    step = hour * limit\n",
    "    data = []\n",
    "\n",
    "    total_steps = (stop-start)/hour\n",
    "    while total_steps > 0:\n",
    "        if total_steps < limit: # recalculating ending steps\n",
    "            step = total_steps * hour\n",
    "\n",
    "        end = start + step\n",
    "        data += api_v2.candles(symbol=symbol, interval=interval, limit=limit, start=start, end=end)\n",
    "        print(pd.to_datetime(start, unit='ms'), pd.to_datetime(end, unit='ms'), \"steps left:\", total_steps)\n",
    "        start = start + step\n",
    "        total_steps -= limit\n",
    "        time.sleep(1.5)\n",
    "    return data\n",
    "\n",
    "result = fetch_data(t_start, t_stop, pair, TIMEFRAME, TIMEFRAME_S)\n",
    "names = ['Date', 'Open', 'Close', 'High', 'Low', 'Volume']\n",
    "df = pd.DataFrame(result, columns=names)\n",
    "df.drop_duplicates(inplace=True)\n",
    "df['Date'] = pd.to_datetime(df['Date'], unit='ms')\n",
    "df.set_index('Date', inplace=True)\n",
    "df.sort_index(inplace=True)\n",
    "df.to_csv(f\"{pair}_{TIMEFRAME}_.csv\")\n",
    "\n"
   ]
  },
  {
   "cell_type": "code",
   "execution_count": null,
   "id": "piano-processor",
   "metadata": {},
   "outputs": [],
   "source": []
  }
 ],
 "metadata": {
  "kernelspec": {
   "display_name": "Python 3",
   "language": "python",
   "name": "python3"
  },
  "language_info": {
   "codemirror_mode": {
    "name": "ipython",
    "version": 3
   },
   "file_extension": ".py",
   "mimetype": "text/x-python",
   "name": "python",
   "nbconvert_exporter": "python",
   "pygments_lexer": "ipython3",
   "version": "3.8.5"
  }
 },
 "nbformat": 4,
 "nbformat_minor": 5
}
